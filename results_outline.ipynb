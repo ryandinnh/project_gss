{
 "cells": [
  {
   "cell_type": "markdown",
   "metadata": {},
   "source": [
    "**\"How does satisfaction and confidence levels in the United States healthcare system affect opinions on the role of government in healthcare?\"**"
   ]
  },
  {
   "cell_type": "markdown",
   "metadata": {},
   "source": [
    "Results: Two to five pages providing visualizations, statistics, and a discussion of your findings. If you\n",
    " have a lot of plots or tables, that’s OK, but try to focus on a few key pieces of evidence rather than\n",
    " doing every single pairwise comparison of some set of variables."
   ]
  },
  {
   "cell_type": "markdown",
   "metadata": {},
   "source": [
    "**For visualization and discussion of analysis/results**\n",
    "- HLTHGOV and HLTHTAX should be the variables used to measure opinions on the role of government in healthcare.\n",
    "    - ie x axis on most graphs"
   ]
  },
  {
   "cell_type": "markdown",
   "metadata": {},
   "source": [
    "**Confidence in the US healthcare vs opinions on the government's role in healthcare**\n",
    "\n",
    "- Cross-Tabulation Insights:\n",
    "    - generally pretty diverse\n",
    "    - Pattern where 'HLTHGOV' = 4 and 5 (disagreeing or strongly disagreeing with limited government healthcare provision) is more commonly selected by those with 'CONHLTH' = 3 (some confidence) suggests that a moderate level of confidence in the healthcare system is associated with a preference for more extensive government involvement.\n",
    "        - It might just be me when I write this, but this seems like a very normal obserevation. ie one would expect that a person who wants more government healthcare provisions would have at least medium confidence in the health care system.\n",
    "- KD plot insights:\n",
    "    - Peaks and Spread:\n",
    "        - The highest peaks, 'conhlth' levels 3 and 4, occur around 'hlthgov' value 4, which suggests that respondents with \"some confidence\" or \"very little confidence\" in the healthcare system tend to disagree with the government providing only limited healthcare services.\n",
    "            - reflective in the cross tab as well\n",
    "        - There's also a significant peak for 'conhlth' level 2 at 'hlthgov' value 4, indicating that those with \"a great deal of confidence\" in the healthcare system tend to disagree with limited government involvement.\n",
    "- general statement:\n",
    "    - Confidence in the U.S. healthcare system and opinions on the government's role in healthcare reveal that individuals with moderate to low confidence levels tend to favor more government involvement rather than limited aid. Both those with a greater degree of confidence and those with some or very little confidence, are inclined to disagree with the notion of the government providing only limited healthcare services (strongest visual support being the kernel density plot being skewed heavy to the right). This suggests that across varying levels of confidence, there is a general preference for an expanded role of government in the healthcare sector."
   ]
  },
  {
   "cell_type": "markdown",
   "metadata": {},
   "source": []
  }
 ],
 "metadata": {
  "language_info": {
   "name": "python"
  }
 },
 "nbformat": 4,
 "nbformat_minor": 2
}
