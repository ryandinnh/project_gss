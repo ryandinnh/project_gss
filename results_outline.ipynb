{
 "cells": [
  {
   "cell_type": "markdown",
   "metadata": {},
   "source": [
    "**\"\"How does the role of the government affect satisfaction and confidence levels in the United States healthcare system?\"**"
   ]
  },
  {
   "cell_type": "markdown",
   "metadata": {},
   "source": [
    "**For visualization and discussion of analysis/results**\n",
    "- HLTHGOV and CONHLTH are variables being measured"
   ]
  },
  {
   "cell_type": "markdown",
   "metadata": {},
   "source": [
    "****HLTHGOV VS CONHLTH****\n",
    "- HLTHGOV \n",
    "    - (How much do you agree or disagree with the following statements?) The government should provide only limited health care services.\n",
    "        - 1: strongly agree\n",
    "        - 2: agree\n",
    "        - 3: neither agree nor disagree\n",
    "        - 4: disagree\n",
    "        - 5: strongly disagree\n",
    "        - D: can't choose\n",
    "        - N: no answer\n",
    "        - I: not applicable\n",
    "        - S: skipped on web\n",
    "- CONHLTH\n",
    "    - In general, how much confidence do you have in the health care system in the United States?\n",
    "        - 1: complete confidence\n",
    "        - 2: a great deal of confidence\n",
    "        - 3: some confidence\n",
    "        - 4: very little confidence\n",
    "        - 5: no confidence at all\n",
    "        - D: can't choose\n",
    "        - I: not applicable\n",
    "        - S: skipped on web\n",
    "\n",
    "\n",
    "- Cross-Tabulation and bubble plot Insights:\n",
    "    - Most respondents disagreed that the government should provide only limited health care services and had some confidence in the health care system in the United States (HLTHGOV = 4, CONHLTH = 3). \n",
    "        - This was the largest point on the bubble plot, with the surrounding values becoming progressively smaller as a trend. \n",
    "        - In the crosstab, CONHLTH '3': Some confidence in the health care system in the United States was the highest value across all values of HLTHGOV.\n",
    "            - This can also be seen in the .groupby() where the mean for all HLTHGOV values are around 3 as well (range of 2.82-3.22).\n",
    "- Association score: 0.11 = moderate relationship\n",
    "    - weakest association score\n",
    "- KD plot insights:\n",
    "    - Highest density peaks are at conhlth value 3.\n",
    "        - refelcted in the cross tab as well.\n",
    "    - The cluster of peaks is on conhlth values 2-4 as across all levels of hlthgov the same is seen.\n",
    "- general statement:\n",
    "    - As the belief that the government should provide only limited health care services decreases, the confidence that people have in the health care system in the United States also decreases. \n",
    "        - This trend continues until people have some confidence in the health care system in the United States and disagree that the the government should provide only limited health care services.\n",
    "            - Government supplied vaccines were still being mandated in some states in the America during the 2022 year. From the covid case numbers, they rose from 2021 but the deaths decreased which could explain how a majority of respondents still had some confidence in the us health care system and also thought that more government aid should be supplied.\n",
    "                - \"The number of cases for the months of January through June 2022 was about 2.4 times the number for the same period in 2021, and the number of COVID-attributed deaths likewise averaged 0.74 times the number in 2021\"\n",
    "    - Less confidence and less belief past the first point are unpopular, also indicating that extreme opinions on both opinions are unpopular. \n",
    "        -  When people believe that the government should play a more active role in healthcare, they also will likely expect higher standards of quality and affordability. If these expectations are not met, it can lead to decreased confidence in the healthcare system. (vice verse)\n",
    "            - explains the trend in the first point of general statement.\n",
    "\n",
    "**NOTE FOR MY COVID19 REFERENCE: i am using statistics from this wiki page https://en.wikipedia.org/wiki/COVID-19_pandemic_in_the_United_States"
   ]
  },
  {
   "cell_type": "markdown",
   "metadata": {},
   "source": [
    "**HLTHTAX VS CONHLTH**"
   ]
  },
  {
   "cell_type": "markdown",
   "metadata": {},
   "source": [
    "- HLTHTAX \n",
    "    - How willing would you be to pay higher taxes to improve the level of health care for all people in the United States? Would you be...\n",
    "        - 1: very willing\n",
    "        - 2: fairly willing\n",
    "        - 3: neither willing nor unwilling\n",
    "        - 4: fairly unwilling\n",
    "        - 5: very unwilling\n",
    "        - D: can't choose\n",
    "        - N: no answer\n",
    "        - I: not applicable\n",
    "        - S: skipped on web\n",
    "- CONHLTH\n",
    "    - In general, how much confidence do you have in the health care system in the United States?\n",
    "        - 1: complete confidence\n",
    "        - 2: a great deal of confidence\n",
    "        - 3: some confidence\n",
    "        - 4: very little confidence\n",
    "        - 5: no confidence at all\n",
    "        - D: can't choose\n",
    "        - I: not applicable\n",
    "        - S: skipped on web"
   ]
  },
  {
   "cell_type": "markdown",
   "metadata": {},
   "source": [
    "**this comparison needs reviewing, not sure what the trend is here but i put the general take away from the evidence.*\n",
    "- From the .groupby() table\n",
    "    - for people who are very willing and very unwilling(HLTHTAX 1 and 5) they are slightly more inclined to have very little confidence in the united states health care system\n",
    "        - Mean for HLTHTAX 1 and 5 are higher than the middle values, being respectively 3.34 and 3.21 with higher standard deviations as well (more variability towards the CONHLTH values of 2 and 4.).\n",
    "    - people who have middle opinions(HLTHTAX 2-4) on higher taxes to improve healthcare, also have some confidence in in the health care system. \n",
    "        - same reason as above.\n",
    "    - What can explain this occurence happening at these extreme HLTHTAX values?\n",
    "        - it makes sense that people who are very unwilling to pay for higher taxes to improve the level of health care for all people, to also be slightly more inclined to have very little confidence in the health care system.\n",
    "            - But why would people who are VERY WILLING to pay for higher taxes also slightly be more inclined to have very little confidence?\n",
    "\n",
    "- Across all levels of HLTHTAX, CONHLTH 3 (Some confidence in the health care system in the us) was the most frequent answered.\n",
    "    - supported through the normalized cross tab and the .groupby() table having a range of 2.9-3.3 for the means.\n",
    "    - supported by conhlth 3 having the highest density peak on all lines of hlthtax.\n",
    "\n",
    "- Across all levels of CONHLTH except conhlth 5, hlthtax 2 was the most common response.\n",
    "    - supported in the normalized cross tab, with CONHLTH 5's highest value being HLTHTAX 5.\n",
    "- Association score of 0.11 as well so moderate relationship.\n",
    "\n",
    "- general statement:\n",
    "    - Most common response from people were they are fairly willing to pay higher taxes to improve the level of health care for all people in the United States and they have some confidence in the health care system in the united states..\n",
    "        - Maybe this is because during the pandemic, the economy wasn't suffering yet due to the governments policies on business relief and covid stimulus checks so maybe that's why the common response fairly willing to pay higher taxes to improve level of healthcare.\n",
    "            - https://finance.yahoo.com/news/stimulus-checks-2022-state-relief-130100408.html?guccounter=1&guce_referrer=aHR0cHM6Ly93d3cuYmluZy5jb20v&\n",
    "            guce_referrer_sig=AQAAAHoAn6nj3vsQz_NetzYqWKNK0Voeg_zPpiThFI1tStB5NTQm-5iMSxRsEbsbHXNorhHNvB64ZgK94T6P2awyHRvlWhO5cyVtdRUG8pihl4SZGoxIOzTG6utNFu1vcnWHelDqc96VLypGuCgj7mvHpMlvzzWxIcAtuymX2HeU9JH2\n",
    "                - covid relief funds from specific states\n",
    "            - https://usafacts.org/state-of-the-union/economy/\n",
    "                - US GDP increased 2.1% in 2022 after increasing 5.9% in 2021 -> implies people to be more willing to spend their extra money on covid relief?\n",
    "        - explanation for confidence is same as above in HLTHGOV vs CONHLTH.\n",
    "            - covid deaths are down about 26% from 2021.\n",
    "    - in terms of over all it looks like peoples opinion on paying higher taxes to improve the level of health care for all people in the United States does not really effect people's confidence in the health care system in the United States. \n",
    "        - not really good at explaining it but the bubble plot is essentially just mirrored points at conhlth = 3?\n",
    "            - theres no cluster of larger bubble sizes like in hlthtax vs conhlth.\n",
    "    "
   ]
  }
 ],
 "metadata": {
  "language_info": {
   "name": "python"
  }
 },
 "nbformat": 4,
 "nbformat_minor": 2
}
