{
 "cells": [
  {
   "cell_type": "markdown",
   "metadata": {},
   "source": [
    "**\"How does satisfaction and confidence levels in the United States healthcare system affect opinions on the role of government in healthcare?\"**"
   ]
  },
  {
   "cell_type": "markdown",
   "metadata": {},
   "source": [
    "Results: Two to five pages providing visualizations, statistics, and a discussion of your findings. If you\n",
    " have a lot of plots or tables, that’s OK, but try to focus on a few key pieces of evidence rather than\n",
    " doing every single pairwise comparison of some set of variables."
   ]
  },
  {
   "cell_type": "markdown",
   "metadata": {},
   "source": [
    "Thinking including each cross tab table and kernel density plot on the page, underneath each table or graph have a little explanation (an expansion of the bullet points i have below) and then a general paragraph of the the two variables in relation to our research question (akin to my general statement bullet point). "
   ]
  },
  {
   "cell_type": "markdown",
   "metadata": {},
   "source": [
    "**For visualization and discussion of analysis/results**\n",
    "- HLTHGOV and HLTHTAX should be the variables used to measure opinions on the role of government in healthcare.\n",
    "    - ie x axis on most graphs"
   ]
  },
  {
   "cell_type": "markdown",
   "metadata": {},
   "source": [
    "**Confidence in the US healthcare system vs opinions on the government's role in healthcare**\n",
    "\n",
    "- Cross-Tabulation Insights:\n",
    "    - generally pretty diverse\n",
    "    - Pattern where 'HLTHGOV' = 4 and 5 (disagreeing or strongly disagreeing with limited government healthcare provision) is more commonly selected by those with 'CONHLTH' = 3 (some confidence) suggests that a moderate level of confidence in the healthcare system is associated with a preference for more extensive government involvement.\n",
    "        - It might just be me when I write this, but this seems like a very normal obserevation. ie one would expect that a person who wants more government healthcare provisions would have at least medium confidence in the health care system.\n",
    "- KD plot insights:\n",
    "    - The highest peaks, 'conhlth' levels 3 and 4, occur around 'hlthgov' value 4, which suggests that respondents with \"some confidence\" or \"very little confidence\" in the healthcare system tend to disagree with the government providing only limited healthcare services.\n",
    "        - reflective in the cross tab as well\n",
    "    - There's also a significant peak for 'conhlth' level 2 at 'hlthgov' value 4, indicating that those with \"a great deal of confidence\" in the healthcare system tend to disagree with limited government involvement.\n",
    "    - There is less density for extreme confidence levels (complete confidence or no confidence at all), implying these opinions are less common.\n",
    "    -  The diversity of opinions is particularly notable among those with \"some confidence\" in the system, indicating that while they lean towards wanting more government involvement, there is variability in this group's views.\n",
    "- general statement:\n",
    "    - Confidence in the U.S. healthcare system and opinions on the government's role in healthcare reveal that individuals with moderate to low confidence levels tend to favor more government involvement rather than limited aid. Both those with a greater degree of confidence and those with some or very little confidence, are inclined to disagree with the notion of the government providing only limited healthcare services (strongest visual support being the kernel density plot being skewed heavy to the right). This suggests that across varying levels of confidence, there is a general preference for an expanded role of government in the healthcare sector.\n",
    "    - CONHLTH does seem like an influential variable towards HLTHGOV."
   ]
  },
  {
   "cell_type": "markdown",
   "metadata": {},
   "source": [
    "**Confidence in the U.S. healthcare system ('CONHLTH') vs willingness to pay higher taxes for healthcare improvements ('HLTHTAX')**\n",
    "\n",
    "- Cross-Tabulation Insights:\n",
    "    - The counts decrease as we move from 'conhlth' 3 (\"some confidence\") towards both ends of the confidence spectrum (1 for \"complete confidence\" and 5 for \"no confidence at all\"). This suggests that individuals with moderate confidence in the healthcare system are more numerous in the survey.\n",
    "    - For 'hlthtax' 1 (\"very willing\"), there is a relatively even spread across the confidence levels, with a notable count in 'conhlth' 3 and 4, indicating that those with \"some confidence\" are also among those most willing to pay higher taxes.\n",
    "    - As willingness to pay higher taxes decreases ('hlthtax' values increase), we see that the number of respondents with \"some confidence\" ('conhlth' 3) remains significant, particularly for 'hlthtax' 2 and 3, which represent \"fairly willing\" and \"neither willing nor unwilling.\"\n",
    "- KD plot insights:\n",
    "    -  plot shows that the highest density for 'HLTHTAX' is around value 2 for most 'CONHLTH' levels, indicating a general trend that many respondents are fairly willing to pay higher taxes for healthcare improvements.\n",
    "    - spread of the density plots suggests that there is variation in tax willingness within each confidence level, with no single opinion dominating completely.\n",
    "    - The density lines for 'CONHLTH' levels 1 and 2 (higher confidence in the healthcare system) show a higher willingness to pay taxes (lower 'HLTHTAX' values), with noticeable density at 'HLTHTAX' values 1 and 2.\n",
    "        - Individuals with the highest confidence ('CONHLTH' 1) show a significant density for being very willing to pay higher taxes ('HLTHTAX' 1), which could indicate a strong belief in the potential for taxes to improve healthcare\n",
    "    - For 'CONHLTH' levels 4 and 5 (lower confidence), the density shifts slightly towards higher 'HLTHTAX' values, suggesting less willingness to pay higher taxes.\n",
    "        - those with the lowest confidence ('CONHLTH' 5) have densities extending into higher 'HLTHTAX' values, suggesting they are less willing to support tax increases for healthcare.\n",
    "- general statement:\n",
    "    - While the data indicates some degree of association between confidence in the U.S. healthcare system ('CONHLTH') and willingness to pay higher taxes for healthcare improvements ('HLTHTAX'), the relationship is complex as it varies across the spectrum of confidence levels. \n",
    "    - The spread of the kernel density plot highlights that, although there is a general trend of higher willingness to pay taxes among those with greater confidence in the healthcare system, this is not uniform, and a significant diversity of opinion exists within each confidence category. \n",
    "        - This suggests that while trust in the healthcare system does play a role in shaping opinions towards healthcare taxation, it is one of several factors (may be on of the less influential ones) that influence such opinions.\n",
    "- notes for paper:\n",
    "    - this section I would just mention it tbh, in the outline it says not to do every single pairwaise variable analysis but i think its relevant enough to include."
   ]
  },
  {
   "cell_type": "markdown",
   "metadata": {},
   "source": [
    "**HLTHINF VS HLTHGOV**\n",
    "- still need"
   ]
  },
  {
   "cell_type": "markdown",
   "metadata": {},
   "source": [
    "**HLTHINF VS HLTHTAX**\n",
    " - still need"
   ]
  },
  {
   "cell_type": "markdown",
   "metadata": {},
   "source": [
    "**HLTHSAT VS HLTHGOV**"
   ]
  },
  {
   "cell_type": "markdown",
   "metadata": {},
   "source": [
    "**HLTHSAT VS HLTHTAX**"
   ]
  }
 ],
 "metadata": {
  "language_info": {
   "name": "python"
  }
 },
 "nbformat": 4,
 "nbformat_minor": 2
}
