{
 "cells": [
  {
   "cell_type": "markdown",
   "metadata": {},
   "source": [
    "**\"\"How does the role of the government affect satisfaction and confidence levels in the United States healthcare system?\"**"
   ]
  },
  {
   "cell_type": "markdown",
   "metadata": {},
   "source": [
    "**For visualization and discussion of analysis/results**\n",
    "- HLTHGOV and CONHLTH are variables being measured"
   ]
  },
  {
   "cell_type": "markdown",
   "metadata": {},
   "source": [
    "****HLTHGOV VS CONHLTH****\n",
    "- HLTHGOV \n",
    "    - (How much do you agree or disagree with the following statements?) The government should provide only limited health care services.\n",
    "        - 1: strongly agree\n",
    "        - 2: agree\n",
    "        - 3: neither agree nor disagree\n",
    "        - 4: disagree\n",
    "        - 5: strongly disagree\n",
    "        - D: can't choose\n",
    "        - N: no answer\n",
    "        - I: not applicable\n",
    "        - S: skipped on web\n",
    "- CONHLTH\n",
    "    - In general, how much confidence do you have in the health care system in the United States?\n",
    "        - 1: complete confidence\n",
    "        - 2: a great deal of confidence\n",
    "        - 3: some confidence\n",
    "        - 4: very little confidence\n",
    "        - 5: no confidence at all\n",
    "        - D: can't choose\n",
    "        - I: not applicable\n",
    "        - S: skipped on web\n",
    "\n",
    "\n",
    "- Cross-Tabulation and bubble plot Insights:\n",
    "    - Most respondents disagreed that the government should provide only limited health care services and had some confidence in the health care system in the United States (HLTHGOV = 4, CONHLTH = 3). \n",
    "        - This was the largest point on the bubble plot, with the surrounding values becoming progressively smaller as a trend. \n",
    "        - In the crosstab, CONHLTH '3': Some confidence in the health care system in the United States was the highest value across all values of HLTHGOV.\n",
    "            - This can also be seen in the .groupby() where the mean for all HLTHGOV values are around 3 as well (range of 2.82-3.22).\n",
    "- Association score: 0.11 = moderate relationship\n",
    "    - weakest association score\n",
    "- KD plot insights:\n",
    "    - Highest density peaks are at conhlth value 3.\n",
    "        - refelcted in the cross tab as well.\n",
    "    - The cluster of peaks is on conhlth values 2-4 as across all levels of hlthgov the same is seen.\n",
    "- general statement:\n",
    "    - As the belief that the government should provide only limited health care services decreases, the confidence that people have in the health care system in the United States also decreases. \n",
    "        - This trend continues until people have very little confidence in the health care system in the United States and neither agree nor disagree that the the government should provide only limited health care services.\n",
    "            - This could be due to the opinion that the United States healthcare is not that great is a common stereotype of the country, especially when compared to the healthcare of other countries, but these individuals do not believe that more government aid is the solution(healthcare industry reform or something similar).\n",
    "    - Less confidence and less belief past the first point are unpopular, also indicating that extreme opinions on both opinions are unpopular. \n",
    "        -  When people believe that the government should play a more active role in healthcare, they also will likely expect higher standards of quality and affordability. If these expectations are not met, it can lead to decreased confidence in the healthcare system. (vice verse)\n",
    "            - explains the trend in the first point of general statement."
   ]
  }
 ],
 "metadata": {
  "language_info": {
   "name": "python"
  }
 },
 "nbformat": 4,
 "nbformat_minor": 2
}
