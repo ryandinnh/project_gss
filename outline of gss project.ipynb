{
 "cells": [
  {
   "cell_type": "markdown",
   "metadata": {},
   "source": [
    "Main topics:\n",
    "    - Role of Government\n",
    "    - Social Networks \n",
    "    - Social Inequality \n",
    "    - Family & Changing Gender Roles \n",
    "    - Work Orientation \n",
    "    - Religion\n",
    "    - Environment \n",
    "    - National Identity  \n",
    "    - Citizenship \n",
    "    - Leisure Time and Sports\n",
    "    - Health and Health Care\n",
    "\n",
    "\n",
    "There is a section for RESERVE CODES AND MISSING VALUES (Page 42)\n"
   ]
  },
  {
   "cell_type": "markdown",
   "metadata": {},
   "source": [
    "Potential Research Questions:"
   ]
  },
  {
   "cell_type": "markdown",
   "metadata": {},
   "source": [
    "**\"How have public opinions on the role of government in healthcare changed over the past decade?\"**\n",
    "\n",
    "Relevant Variables:\n",
    "- HLTHINF\n",
    "    - (How much do you agree or disagree with the following statements?) In general, the health care system in the United States is inefficient.\n",
    "- HLTHGOV \n",
    "    - (How much do you agree or disagree with the following statements?) The government should provide only limited health care services.\n",
    "- HLTHTAX \n",
    "    - How willing would you be to pay higher taxes to improve the level of health care for all people in the United States? Would you be .."
   ]
  },
  {
   "cell_type": "markdown",
   "metadata": {},
   "source": [
    "**\"How has engagement in leisure activities changed in the recent years, considering both in-person and online activities?\"**\n",
    "\n",
    "Relevant Variables:\n",
    "- YRARMUS:\n",
    "    - (During the last 12 months, did you...) watch or listen to an archived web event featuring a music, theater, or dance performance This may have included video or audio clips on platforms like YouTube, an organization's website, or a social media account.\n",
    "- YRARPO:\n",
    "    - (During the last 12 months, did you...) watch or listen to an archived web event featuring poetry, book-reading, or storytelling? This may have included video or audio clips on platforms like YouTube, an organization's website, or a social media account.\n",
    "- YRARTXBT:\n",
    "    - (During the last 12 months, did you...) go in person to an art exhibit, such as paintings, sculpture, textiles, graphic design, or photography?\n",
    "- YRCLASS:\n",
    "    - (During the last 12 months, did you...) take any online classes or lessons -- or watch instructional videos -- on creating or performing art?\n",
    "- YRCREAT:\n",
    "    - (During the last 12 months, did you...) create or perform art of your own? This may have included music, theater, or dance; creative writing; crafts or visual arts; digital art; or film or photography done for artistic purposes.\n",
    "- YRLVMUS:\n",
    "    - (During the last 12 months, did you...) go in person to a live music, theater, or dance performance?\n",
    "- YRMOVIE:\n",
    "    - (During the last 12 months, did you...) go to the movies?\n",
    "- YRPOD:\n",
    "    - (During the last 12 months, did you...) listen to podcasts about music, theater, or dance, or about visual arts or film, or about books or literature?\n",
    "- YRRDG:\n",
    "    - (During the last 12 months, did you...) read any novels or short stories, poetry, or plays?\n",
    "- YRSTMUS:\n",
    "    - (During the last 12 months, did you...) watch or listen to a live-streamed event featuring a music, theater, or dance performance?\n",
    "- YRSTPO:\n",
    "    - (During the last 12 months, did you...) watch or listen to a live-streamed poetry event, book-reading, or storytelling event?\n",
    "- YRTOUR:\n",
    "    - (During the last 12 months, did you...) visit or tour an online art museum, gallery, or exhibition?\n",
    "\n"
   ]
  },
  {
   "cell_type": "markdown",
   "metadata": {},
   "source": [
    "**\"How has public confidence in the media change over the years?\"**\n",
    "\n",
    "Relevant Variables:\n",
    "- CONPRESS:\n",
    "    - (Public confidence in...) The Press.\n",
    "- CONTV:\n",
    "    - (Public confidence in...) Television.\n",
    "- NEWS:\n",
    "    - How often do you read the newspaper—every day, a few times a week, once a week, less than once a week, or never?\n",
    "- TVHOURS:\n",
    "    - On an average day, about how many hours do you personally watch television?\n",
    "\n",
    "(Public confidence in...) Television."
   ]
  },
  {
   "cell_type": "markdown",
   "metadata": {},
   "source": [
    "For a lot of these questions it would be interesting to see how covid impacted these trends and I believe the data would reflect changes in trends as well."
   ]
  }
 ],
 "metadata": {
  "language_info": {
   "name": "python"
  }
 },
 "nbformat": 4,
 "nbformat_minor": 2
}
